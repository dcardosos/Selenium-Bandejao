{
 "cells": [
  {
   "cell_type": "code",
   "execution_count": 1,
   "metadata": {},
   "outputs": [],
   "source": [
    "from selenium.webdriver import Firefox, Chrome\n",
    "from time import sleep"
   ]
  },
  {
   "cell_type": "code",
   "execution_count": 2,
   "metadata": {},
   "outputs": [],
   "source": [
    "# Abrindo o browser\n",
    "f = Firefox() # Abre o firefox\n",
    "\n",
    "# Esperar o carregamento da página\n",
    "url = 'https://uspdigital.usp.br/rucard/Jsp/cardapioSAS.jsp?codrtn=9'\n",
    "f.get(url) # Abre a página de url definida\n",
    "\n",
    "sleep(2)"
   ]
  },
  {
   "cell_type": "code",
   "execution_count": 3,
   "metadata": {},
   "outputs": [
    {
     "name": "stdout",
     "output_type": "stream",
     "text": [
      "Segunda-Feira: 14/03\n"
     ]
    }
   ],
   "source": [
    "week_day = f.find_element_by_xpath('//*[@id=\"diaSegunda\"]').text\n",
    "print(week_day)\n"
   ]
  },
  {
   "cell_type": "code",
   "execution_count": 4,
   "metadata": {},
   "outputs": [
    {
     "name": "stdout",
     "output_type": "stream",
     "text": [
      "Almoço\n"
     ]
    }
   ],
   "source": [
    "lunch_dinner = f.find_element_by_xpath('/html/body/div/div[3]/table[1]/tbody/tr[1]/th[1]').text\n",
    "print(lunch_dinner)\n",
    "\n",
    "\n"
   ]
  },
  {
   "cell_type": "code",
   "execution_count": 9,
   "metadata": {},
   "outputs": [
    {
     "name": "stdout",
     "output_type": "stream",
     "text": [
      "Será fornecida apenas uma marmita por usuário e não serão fornecidos talheres.\n",
      "As marmitas não poderão ser consumidas no local.\n",
      "Há a opção de atendimento presencial.\n",
      "\n",
      "Arroz / Feijão Preto\n",
      "Linguiça Toscana ao Molho de Cebola\n",
      "Opção: PVT à Provencal\n",
      "Repolho Refogado\n",
      "Salada de Beterraba Ralada\n",
      "Laranja\n",
      "Mini Pão\n"
     ]
    }
   ],
   "source": [
    "cardapio = f.find_element_by_xpath('//*[@id=\"almocoSegunda\"]').text\n",
    "\n",
    "print(cardapio)\n",
    "\n"
   ]
  },
  {
   "cell_type": "code",
   "execution_count": null,
   "metadata": {},
   "outputs": [],
   "source": [
    "# Function made to ignore the text above the real interesting items I want\n",
    "def ignore_head(meal):\n",
    "    items = {}\n",
    "    "
   ]
  }
 ],
 "metadata": {
  "kernelspec": {
   "display_name": "Python 3",
   "language": "python",
   "name": "python3"
  },
  "language_info": {
   "codemirror_mode": {
    "name": "ipython",
    "version": 3
   },
   "file_extension": ".py",
   "mimetype": "text/x-python",
   "name": "python",
   "nbconvert_exporter": "python",
   "pygments_lexer": "ipython3",
   "version": "3.8.5"
  }
 },
 "nbformat": 4,
 "nbformat_minor": 4
}
