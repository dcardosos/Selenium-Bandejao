{
 "cells": [
  {
   "cell_type": "code",
   "execution_count": 1,
   "metadata": {},
   "outputs": [],
   "source": [
    "from selenium.webdriver import Firefox, Chrome\n",
    "from time import sleep\n"
   ]
  },
  {
   "cell_type": "code",
   "execution_count": 2,
   "metadata": {},
   "outputs": [],
   "source": [
    "# Opening browser\n",
    "f = Firefox() # Opens firefox\n",
    "\n",
    "quimica = 9\n",
    "fisica = 8\n",
    "central = 6\n",
    "\n",
    "url = f'https://uspdigital.usp.br/rucard/Jsp/cardapioSAS.jsp?codrtn={quimica}'\n",
    "f.get(url) # opens the url defined\n",
    "\n",
    "# Waiting webpage to load\n",
    "sleep(3)\n"
   ]
  },
  {
   "cell_type": "code",
   "execution_count": 3,
   "metadata": {},
   "outputs": [
    {
     "name": "stdout",
     "output_type": "stream",
     "text": [
      "Segunda-Feira: 14/03\n"
     ]
    }
   ],
   "source": [
    "# Test - weekday and number day\n",
    "# Tentar trazer toda a \"class\" com os dias da semana, e não só o xpath específico\n",
    "\n",
    "\n",
    "week_day = f.find_element_by_xpath('//*[@id=\"diaSegunda\"]').text\n",
    "print(week_day)\n"
   ]
  },
  {
   "cell_type": "code",
   "execution_count": 4,
   "metadata": {},
   "outputs": [
    {
     "name": "stdout",
     "output_type": "stream",
     "text": [
      "Almoço\n"
     ]
    }
   ],
   "source": [
    "# Test - lunch or dinner\n",
    "\n",
    "lunch_dinner = f.find_element_by_xpath('/html/body/div/div[3]/table[1]/tbody/tr[1]/th[1]').text\n",
    "print(lunch_dinner)\n"
   ]
  },
  {
   "cell_type": "code",
   "execution_count": 194,
   "metadata": {},
   "outputs": [
    {
     "name": "stdout",
     "output_type": "stream",
     "text": [
      "Valor Calórico da Refeição: 830 Kcal\n"
     ]
    }
   ],
   "source": [
    "# Test - calorie value\n",
    "\n",
    "c_value = f.find_element_by_xpath('//*[@id=\"kcalSegundaA\"]').text\n",
    "print(c_value)\n"
   ]
  },
  {
   "cell_type": "code",
   "execution_count": 104,
   "metadata": {},
   "outputs": [
    {
     "name": "stdout",
     "output_type": "stream",
     "text": [
      "Será fornecida apenas uma marmita por usuário e não serão fornecidos talheres.\n",
      "As marmitas não poderão ser consumidas no local.\n",
      "Há a opção de atendimento presencial.\n",
      "\n",
      "Arroz / Feijão Preto\n",
      "Linguiça Toscana ao Molho de Cebola\n",
      "Opção: PVT à Provencal\n",
      "Repolho Refogado\n",
      "Salada de Beterraba Ralada\n",
      "Laranja\n",
      "Mini Pão\n"
     ]
    }
   ],
   "source": [
    "# Getting only one meal and day of the week and printing the menu\n",
    "menu = f.find_element_by_xpath('//*[@id=\"almocoSegunda\"]').text\n",
    "\n",
    "print(menu)\n"
   ]
  },
  {
   "cell_type": "code",
   "execution_count": 106,
   "metadata": {},
   "outputs": [
    {
     "name": "stdout",
     "output_type": "stream",
     "text": [
      "Arroz / Feijão Preto\n",
      "Linguiça Toscana ao Molho de Cebola\n",
      "Opção: PVT à Provencal\n",
      "Repolho Refogado\n",
      "Salada de Beterraba Ralada\n",
      "Laranja\n",
      "Mini Pão\n"
     ]
    }
   ],
   "source": [
    "# Slicing the \"warning\" message above the menu\n",
    "# Doing it in a static way, not the best one\n",
    "menu = f.find_element_by_xpath('//*[@id=\"almocoSegunda\"]').text\n",
    "\n",
    "print(menu[167:])\n"
   ]
  },
  {
   "cell_type": "code",
   "execution_count": 131,
   "metadata": {},
   "outputs": [],
   "source": [
    "# Function made to ignore the text above the real interesting items I want\n",
    "\n",
    "def ignore_head(meal):\n",
    "    word = []\n",
    "    for c in meal:\n",
    "        if c != ' ':\n",
    "            word.append(c)\n",
    "            if c == ' ':\n",
    "                print(word)\n",
    "                word = []\n",
    "    #return linha\n",
    "    #items = {}\n"
   ]
  },
  {
   "cell_type": "code",
   "execution_count": 132,
   "metadata": {},
   "outputs": [],
   "source": [
    "ignore_head(menu)"
   ]
  },
  {
   "cell_type": "code",
   "execution_count": 133,
   "metadata": {},
   "outputs": [
    {
     "name": "stdout",
     "output_type": "stream",
     "text": [
      "Será fornecida apenas uma marmita por usuário e não serão fornecidos talheres.\n",
      "\n",
      "As marmitas não poderão ser consumidas no local.\n",
      "\n",
      "Há a opção de atendimento presencial.\n",
      "\n",
      "\n",
      "\n",
      "Arroz / Feijão Preto\n",
      "\n",
      "Linguiça Toscana ao Molho de Cebola\n",
      "\n",
      "Opção: PVT à Provencal\n",
      "\n",
      "Repolho Refogado\n",
      "\n",
      "Salada de Beterraba Ralada\n",
      "\n",
      "Laranja\n",
      "\n"
     ]
    }
   ],
   "source": [
    "# Iterating trough every meals' chacter and grouping it by line\n",
    "# At the end prints every line #just for fun\n",
    "line = ''\n",
    "lista = []\n",
    "\n",
    "for c in menu:\n",
    "    line += c\n",
    "    if c == '\\n':\n",
    "        lista.append(line)\n",
    "        print(line)\n",
    "        line = ''\n"
   ]
  },
  {
   "cell_type": "code",
   "execution_count": 137,
   "metadata": {},
   "outputs": [
    {
     "data": {
      "text/plain": [
       "['Arroz / Feijão Preto\\n',\n",
       " 'Linguiça Toscana ao Molho de Cebola\\n',\n",
       " 'Opção: PVT à Provencal\\n',\n",
       " 'Repolho Refogado\\n',\n",
       " 'Salada de Beterraba Ralada\\n',\n",
       " 'Laranja\\n']"
      ]
     },
     "execution_count": 137,
     "metadata": {},
     "output_type": "execute_result"
    }
   ],
   "source": [
    "# The same logic from the slicing above, lets try later do be more dynamic\n",
    "\n",
    "lista[4:]\n"
   ]
  },
  {
   "cell_type": "markdown",
   "metadata": {},
   "source": [
    "## Tem uma desvantagem muito grande em abrir o navegador dentro da função, pois cada vez que roda ele abre outro e demora muito, para teste é melhor abrir o url antes dessa célula, a desvantem na segunda opção é perder o dinamismo de escolher qual restaurante quer o cardápio"
   ]
  },
  {
   "cell_type": "code",
   "execution_count": 34,
   "metadata": {},
   "outputs": [],
   "source": [
    "# Função para percorrer todos os dias da semana e printar seus respectivos cardápios\n",
    "# Fazer função para pegar o dia de hoje e só printar esse dia\n",
    "\n",
    "# Code of each restaurant\n",
    "quimica = 9\n",
    "fisica = 8\n",
    "central = 6\n",
    "\n",
    "# Tentar pegar automaticamente de alguma lib\n",
    "week_days = ['Segunda', 'Terca', 'Quarta', 'Quinta', 'Sexta', 'Sabado', 'Domingo']\n",
    "\n",
    "# Descreva um item do menu que você não gosta, então se o item constar no menu não será printado\n",
    "# Exemplo 'Peixe' > a primeira letra, se não houver nenhum, comentar a linha de baixo\n",
    "#vomit = 'repolho'\n",
    "\n",
    "# Colocar docstring\n",
    "# Pode se pegar o almoço ou jantar por enquanto\n",
    "# os argumentos precisam ser exatamente \"almoco\" ou \"jantar\" para funcionar com essa página em específico\n",
    "def print_all_meals(lista, restaurant, lunch_or_dinner, gororoba='None'):\n",
    "    # Opening browser\n",
    "    f = Firefox() # Opens firefox\n",
    "    \n",
    "    url = f'https://uspdigital.usp.br/rucard/Jsp/cardapioSAS.jsp?codrtn={restaurant}'\n",
    "    f.get(url) # opens the url defined\n",
    "\n",
    "    # Waiting webpage to load\n",
    "    sleep(3)\n",
    "    \n",
    "    \n",
    "    restaurant_name = f.find_element_by_xpath('//*[@id=\"restaurante\"]').text\n",
    "    print(f'\\033[1m{restaurant_name}\\033[0m')\n",
    "    \n",
    "    # iterating through all days from the list and getting the menu and calories from each day\n",
    "    for day in lista:\n",
    "        # Getting the menu and calories in a dynamic way, deppendig the day and if you want lunch or dinner\n",
    "        menu = f.find_element_by_xpath(f'//*[@id=\"{lunch_or_dinner}{day}\"]').text\n",
    "        calorie = f.find_element_by_xpath(f'//*[@id=\"kcal{day}{lunch_or_dinner[0:1].upper()}\"]').text\n",
    "        \n",
    "        # If there is meal offered at the day iterated and all ingredients are fine then print this day's menu\n",
    "        if len(menu) > 0 and gororoba.capitalize() not in menu:\n",
    "            # bit confusing, but the \"\\n\" is a break line, the \"\\033[1m\" locates the beginning of the bold text\n",
    "            # and \"\\033[0m\" locates the end where the bold will be applied\n",
    "            if restaurant == quimica:\n",
    "                print(f'\\n\\033[1mO menu do {lunch_or_dinner} de {day} é: \\033[0m\\n{menu[167:]}\\n{calorie}')\n",
    "            else:\n",
    "                print(f'\\n\\033[1mO menu do {lunch_or_dinner} de {day} é: \\033[0m\\n{menu}\\n{calorie}')\n",
    "\n"
   ]
  },
  {
   "cell_type": "code",
   "execution_count": 33,
   "metadata": {},
   "outputs": [
    {
     "name": "stdout",
     "output_type": "stream",
     "text": [
      "\u001b[1mRestaurante Central\u001b[0m\n",
      "\n",
      "\u001b[1mO menu do almoco de Segunda é: \u001b[0m\n",
      "Arroz/feijão/arroz\n",
      "Frango empanado\n",
      "Opção: Escondidinho de PVT\n",
      "Chuchu com molho branco\n",
      "Salada de almeirão\n",
      "Maçã\n",
      "Minipão\n",
      "Valor Calórico da Refeição: 885 Kcal\n",
      "\n",
      "\u001b[1mO menu do almoco de Terca é: \u001b[0m\n",
      "Arroz/feijão/arroz integral\n",
      "Carne picada com cogumelos\n",
      "Opção: Quibe de PVT\n",
      "Virado de milho\n",
      "Salada de alface\n",
      "Laranja\n",
      "Minipão\n",
      "Valor Calórico da Refeição: 925 Kcal\n",
      "\n",
      "\u001b[1mO menu do almoco de Quarta é: \u001b[0m\n",
      "Arroz/feijão/arroz integral\n",
      "Frango assado\n",
      "Opção: PVT gratinado\n",
      "Abóbora refogada\n",
      "Salada de escarola\n",
      "Barra de cereais\n",
      "Minipão\n",
      "Valor Calórico da Refeição: 855 Kcal\n",
      "\n",
      "\u001b[1mO menu do almoco de Quinta é: \u001b[0m\n",
      "Arroz/feijão/arroz integral\n",
      "Linguiça acebolada\n",
      "Opção: Ervilha ao vinagrete\n",
      "Couve à provençal\n",
      "Salada de beterraba\n",
      "Laranja\n",
      "Minipão\n",
      "Valor Calórico da Refeição: 875 Kcal\n",
      "\n",
      "\u001b[1mO menu do almoco de Sexta é: \u001b[0m\n",
      "Arroz/feijão/arroz integral\n",
      "Tiras de carne à espanhola\n",
      "Opção: Almôndega de PVT\n",
      "Batata palha\n",
      "Salada de acelga\n",
      "Maçã\n",
      "Minipão\n",
      "Valor Calórico da Refeição: 1030 Kcal\n",
      "\n",
      "\u001b[1mO menu do almoco de Sabado é: \u001b[0m\n",
      "Arroz/feijão/arroz integral\n",
      "Almôndegas\n",
      "Opção: Torta de PVT\n",
      "Jardineira de legumes\n",
      "Salada de almeirão\n",
      "Banana\n",
      "Minipão\n",
      "Valor Calórico da Refeição: 845 Kcal\n",
      "\n",
      "\u001b[1mO menu do almoco de Domingo é: \u001b[0m\n",
      "Fechado\n",
      "\n"
     ]
    }
   ],
   "source": [
    "# Test\n",
    "print_all_meals(week_days, central, 'almoco', 'repolho')\n"
   ]
  },
  {
   "cell_type": "code",
   "execution_count": 35,
   "metadata": {
    "scrolled": true
   },
   "outputs": [
    {
     "name": "stdout",
     "output_type": "stream",
     "text": [
      "\u001b[1mRestaurante das Químicas\u001b[0m\n",
      "\n",
      "\u001b[1mO menu do jantar de Segunda é: \u001b[0m\n",
      "Arroz / Feijão Preto\n",
      "Bife Grelhado Coxão Mole ao Molho Madeira\n",
      "Opção: Hamburguer de PVT\n",
      "Chuchu com Manjericão\n",
      "Salada de Acelga\n",
      "Gelatina de Morango\n",
      "Mini Pão\n",
      "Valor Calórico da Refeição: 910 Kcal\n",
      "\n",
      "\u001b[1mO menu do jantar de Terca é: \u001b[0m\n",
      "Arroz / Feijão\n",
      "Carne Moida com Vagem\n",
      "Opção: PVT com Vagem\n",
      "Macarrão Alho e Oleo\n",
      "Salada Mix de Folhas\n",
      "Melancia\n",
      "Mini Pão\n",
      "Valor Calórico da Refeição: 1161 Kcal\n",
      "\n",
      "\u001b[1mO menu do jantar de Quarta é: \u001b[0m\n",
      "Arroz / Feijão\n",
      "Pernil Assado ao Molho de Limão\n",
      "Opção: Moussaka Vegetariana\n",
      "Batata Doce com Ervas\n",
      "Salada de Almeirão\n",
      "Laranja\n",
      "Mini Pão\n",
      "Valor Calórico da Refeição: 1019 Kcal\n",
      "\n",
      "\u001b[1mO menu do jantar de Quinta é: \u001b[0m\n",
      "Arroz / Feijão\n",
      "Filé de Frango Grelhado ao Molho Chinesa\n",
      "Opção: PVT com Tomate\n",
      "Brócolis Refogado\n",
      "Salada de Alface Crespa\n",
      "Bananada\n",
      "Maçã\n",
      "Valor Calórico da Refeição: 1080 Kcal\n"
     ]
    }
   ],
   "source": [
    "print_all_meals(week_days, quimica, 'jantar', 'repolho')\n"
   ]
  },
  {
   "cell_type": "code",
   "execution_count": 36,
   "metadata": {},
   "outputs": [
    {
     "name": "stdout",
     "output_type": "stream",
     "text": [
      "\u001b[1mRestaurante da Física\u001b[0m\n",
      "\n",
      "\u001b[1mO menu do almoco de Segunda é: \u001b[0m\n",
      "Arroz / Feijão / Arroz Integral\n",
      "Carne em cubos com mandioca\n",
      "Opção: Lentilha ao vinagrete PVT\n",
      "Repolho refogado\n",
      "Salada de Acelga com pepino\n",
      "Maçã\n",
      "Mini pão\n",
      "Valor Calórico da Refeição: 870 Kcal\n",
      "\n",
      "\u001b[1mO menu do almoco de Terca é: \u001b[0m\n",
      "Arroz/feijão/arroz integral\n",
      "Filé de frango grelhado\n",
      "Opção: Batata com molho branco\n",
      "gratinada PVT\n",
      "Creme de Milho\n",
      "Salada de Alface\n",
      "Doce de abóbora/ Laranja\n",
      "Mini pão\n",
      "Valor Calórico da Refeição: 950 Kcal\n",
      "\n",
      "\u001b[1mO menu do almoco de Quarta é: \u001b[0m\n",
      "Arroz / Feijão / Arroz Integral\n",
      "Linguiça toscana acebolada\n",
      "Opção: Soja com molho de tomate\n",
      "Purê de batata\n",
      "Salada de Pepino com Tomate\n",
      "Melancia\n",
      "Mini pão\n",
      "Valor Calórico da Refeição: 863 Kcal\n",
      "\n",
      "\u001b[1mO menu do almoco de Quinta é: \u001b[0m\n",
      "Arroz/feijão /arroz integral\n",
      "Carne Assada ao molho escuro\n",
      "Opção: Torta de espinafre com queijo PVT\n",
      "Macarrão ao sugo\n",
      "Salada de Alface\n",
      "Gelatina/ Laranja\n",
      "Mini pão\n",
      "Valor Calórico da Refeição: 920 Kcal\n",
      "\n",
      "\u001b[1mO menu do almoco de Sexta é: \u001b[0m\n",
      "Arroz / feijão preto/ arroz integral\n",
      "Estrogonofe de frango\n",
      "Opção: Chuchu com PVT\n",
      "Batata palha\n",
      "Salada de beterraba\n",
      "Laranja\n",
      "Minipão\n",
      "Valor Calórico da Refeição: 820 Kcal\n"
     ]
    }
   ],
   "source": [
    "print_all_meals(week_days, fisica, 'almoco')\n"
   ]
  },
  {
   "cell_type": "markdown",
   "metadata": {},
   "source": [
    "## Função para pegar apenas o cardápio do dia em que está rodando o código automaticamente"
   ]
  },
  {
   "cell_type": "code",
   "execution_count": 25,
   "metadata": {},
   "outputs": [
    {
     "name": "stdout",
     "output_type": "stream",
     "text": [
      "Friday\n"
     ]
    }
   ],
   "source": [
    "# Função para pegar apenas o cardápio do dia dee hoje automaticameente\n",
    "\n",
    "from datetime import datetime\n",
    "today = datetime.today().strftime('%A')\n",
    "print(today)\n"
   ]
  },
  {
   "cell_type": "code",
   "execution_count": 26,
   "metadata": {},
   "outputs": [],
   "source": [
    "# Dicionário manual\n",
    "\n",
    "days = {'Monday': 'Segunda',\n",
    "       'Tuesday': 'Terça',\n",
    "       'Wednesday': 'Quarta',\n",
    "       'Thursday': 'Quinta',\n",
    "       'Friday': 'Sexta',\n",
    "       'Saturday': 'Sabado',\n",
    "       'Sunday': 'Domingo'}\n"
   ]
  },
  {
   "cell_type": "code",
   "execution_count": 28,
   "metadata": {},
   "outputs": [
    {
     "name": "stdout",
     "output_type": "stream",
     "text": [
      "Sexta\n"
     ]
    }
   ],
   "source": [
    "print(days[today])"
   ]
  },
  {
   "cell_type": "code",
   "execution_count": 41,
   "metadata": {},
   "outputs": [],
   "source": [
    "# Função para percorrer todos os dias da semana e printar seus respectivos cardápios\n",
    "# Fazer função para pegar o dia de hoje e só printar esse dia\n",
    "\n",
    "# Code of each restaurant\n",
    "quimica = 9\n",
    "fisica = 8\n",
    "central = 6\n",
    "\n",
    "# Colocar docstring\n",
    "# Pode se pegar o almoço ou jantar por enquanto\n",
    "# os argumentos precisam ser exatamente \"almoco\" ou \"jantar\" para funcionar com essa página em específico\n",
    "def meal_today(restaurant, lunch_or_dinner, gororoba='None'):\n",
    "    # Opening browser\n",
    "    f = Firefox() # Opens firefox\n",
    "    \n",
    "    url = f'https://uspdigital.usp.br/rucard/Jsp/cardapioSAS.jsp?codrtn={restaurant}'\n",
    "    f.get(url) # opens the url defined\n",
    "\n",
    "    # Waiting webpage to load\n",
    "    sleep(3)\n",
    "    \n",
    "    restaurant_name = f.find_element_by_xpath('//*[@id=\"restaurante\"]').text\n",
    "    print(f'\\033[1m{restaurant_name}\\033[0m')\n",
    "    \n",
    "    # Getting the menu and calories in a dynamic way, deppendig the day and if you want lunch or dinner\n",
    "    menu = f.find_element_by_xpath(f'//*[@id=\"{lunch_or_dinner}{days[today]}\"]').text\n",
    "    calorie = f.find_element_by_xpath(f'//*[@id=\"kcal{days[today]}{lunch_or_dinner[0:1].upper()}\"]').text\n",
    "        \n",
    "    # If there is meal offered at the day iterated and all ingredients are fine then print this day's menu\n",
    "    if len(menu) > 0 and gororoba.capitalize() not in menu:\n",
    "        # bit confusing, but the \"\\n\" is a break line, the \"\\033[1m\" locates the beginning of the bold text\n",
    "        # and \"\\033[0m\" locates the end where the bold will be applied\n",
    "        if restaurant == quimica:\n",
    "            print(f'\\n\\033[1mO menu do {lunch_or_dinner} de {days[today]} é: \\033[0m\\n{menu[167:]}\\n{calorie}')\n",
    "        else:\n",
    "            print(f'\\n\\033[1mO menu do {lunch_or_dinner} de {days[today]} é: \\033[0m\\n{menu}\\n{calorie}')\n",
    "\n"
   ]
  },
  {
   "cell_type": "code",
   "execution_count": 43,
   "metadata": {},
   "outputs": [
    {
     "name": "stdout",
     "output_type": "stream",
     "text": [
      "\u001b[1mRestaurante das Químicas\u001b[0m\n",
      "\n",
      "\u001b[1mO menu do almoco de Sexta é: \u001b[0m\n",
      "Arroz / Feijão\n",
      "Frango Assado\n",
      "Opção: Cassoulet Vegetariano\n",
      "Benrinjela Refogada\n",
      "Salada de Alface\n",
      "Curau\n",
      "Mini Pão\n",
      "Valor Calórico da Refeição: 974 Kcal\n"
     ]
    }
   ],
   "source": [
    "meal_today(quimica, 'almoco')"
   ]
  }
 ],
 "metadata": {
  "kernelspec": {
   "display_name": "Python 3",
   "language": "python",
   "name": "python3"
  },
  "language_info": {
   "codemirror_mode": {
    "name": "ipython",
    "version": 3
   },
   "file_extension": ".py",
   "mimetype": "text/x-python",
   "name": "python",
   "nbconvert_exporter": "python",
   "pygments_lexer": "ipython3",
   "version": "3.8.5"
  }
 },
 "nbformat": 4,
 "nbformat_minor": 4
}
